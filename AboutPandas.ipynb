{
 "cells": [
  {
   "cell_type": "markdown",
   "id": "8ccdd3bc",
   "metadata": {},
   "source": [
    "# Pandas"
   ]
  },
  {
   "cell_type": "code",
   "execution_count": 4,
   "id": "6bd01f39",
   "metadata": {},
   "outputs": [],
   "source": [
    "import pandas as pd\n",
    "import numpy as np"
   ]
  },
  {
   "cell_type": "code",
   "execution_count": 11,
   "id": "91e3f634",
   "metadata": {},
   "outputs": [
    {
     "data": {
      "text/plain": [
       "0       1\n",
       "1       2\n",
       "2       3\n",
       "3    jadi\n",
       "4     NaN\n",
       "5      -1\n",
       "dtype: object"
      ]
     },
     "execution_count": 11,
     "metadata": {},
     "output_type": "execute_result"
    }
   ],
   "source": [
    "pd.Series([1,2,3,'jadi',np.nan,-1])\n",
    "# nan means nothing "
   ]
  },
  {
   "cell_type": "code",
   "execution_count": 7,
   "id": "b81d80d2",
   "metadata": {},
   "outputs": [
    {
     "data": {
      "text/plain": [
       "DatetimeIndex(['2022-01-01', '2022-01-02', '2022-01-03', '2022-01-04',\n",
       "               '2022-01-05', '2022-01-06'],\n",
       "              dtype='datetime64[ns]', freq='D')"
      ]
     },
     "execution_count": 7,
     "metadata": {},
     "output_type": "execute_result"
    }
   ],
   "source": [
    "dates = pd.date_range('20220101',periods=6)\n",
    "dates"
   ]
  },
  {
   "cell_type": "code",
   "execution_count": 12,
   "id": "cc1338d6",
   "metadata": {},
   "outputs": [
    {
     "data": {
      "text/html": [
       "<div>\n",
       "<style scoped>\n",
       "    .dataframe tbody tr th:only-of-type {\n",
       "        vertical-align: middle;\n",
       "    }\n",
       "\n",
       "    .dataframe tbody tr th {\n",
       "        vertical-align: top;\n",
       "    }\n",
       "\n",
       "    .dataframe thead th {\n",
       "        text-align: right;\n",
       "    }\n",
       "</style>\n",
       "<table border=\"1\" class=\"dataframe\">\n",
       "  <thead>\n",
       "    <tr style=\"text-align: right;\">\n",
       "      <th></th>\n",
       "      <th>a</th>\n",
       "      <th>b</th>\n",
       "      <th>c</th>\n",
       "      <th>d</th>\n",
       "    </tr>\n",
       "  </thead>\n",
       "  <tbody>\n",
       "    <tr>\n",
       "      <th>2022-01-01</th>\n",
       "      <td>-0.759024</td>\n",
       "      <td>1.252782</td>\n",
       "      <td>0.025987</td>\n",
       "      <td>0.470358</td>\n",
       "    </tr>\n",
       "    <tr>\n",
       "      <th>2022-01-02</th>\n",
       "      <td>-0.859372</td>\n",
       "      <td>-0.918148</td>\n",
       "      <td>-0.492104</td>\n",
       "      <td>1.011522</td>\n",
       "    </tr>\n",
       "    <tr>\n",
       "      <th>2022-01-03</th>\n",
       "      <td>-0.767672</td>\n",
       "      <td>-1.074146</td>\n",
       "      <td>-0.635406</td>\n",
       "      <td>-0.273074</td>\n",
       "    </tr>\n",
       "    <tr>\n",
       "      <th>2022-01-04</th>\n",
       "      <td>-0.722217</td>\n",
       "      <td>-0.696017</td>\n",
       "      <td>-0.486239</td>\n",
       "      <td>2.204282</td>\n",
       "    </tr>\n",
       "    <tr>\n",
       "      <th>2022-01-05</th>\n",
       "      <td>-0.788648</td>\n",
       "      <td>-0.035195</td>\n",
       "      <td>2.322818</td>\n",
       "      <td>-1.318911</td>\n",
       "    </tr>\n",
       "    <tr>\n",
       "      <th>2022-01-06</th>\n",
       "      <td>-1.371813</td>\n",
       "      <td>0.368841</td>\n",
       "      <td>-0.203755</td>\n",
       "      <td>-0.634290</td>\n",
       "    </tr>\n",
       "  </tbody>\n",
       "</table>\n",
       "</div>"
      ],
      "text/plain": [
       "                   a         b         c         d\n",
       "2022-01-01 -0.759024  1.252782  0.025987  0.470358\n",
       "2022-01-02 -0.859372 -0.918148 -0.492104  1.011522\n",
       "2022-01-03 -0.767672 -1.074146 -0.635406 -0.273074\n",
       "2022-01-04 -0.722217 -0.696017 -0.486239  2.204282\n",
       "2022-01-05 -0.788648 -0.035195  2.322818 -1.318911\n",
       "2022-01-06 -1.371813  0.368841 -0.203755 -0.634290"
      ]
     },
     "execution_count": 12,
     "metadata": {},
     "output_type": "execute_result"
    }
   ],
   "source": [
    "df = pd.DataFrame(np.random.randn(6,4),index=dates,columns=['a','b','c','d'])\n",
    "df\n",
    "# pd.DataFrame gets the input data ,  the index calue , columns(name of them) to set a data frame (like a table)\n",
    "# np.random.rand set data from 0 to 1 byt randn set from - to + "
   ]
  },
  {
   "cell_type": "code",
   "execution_count": 13,
   "id": "bb38c91d",
   "metadata": {},
   "outputs": [
    {
     "data": {
      "text/plain": [
       "2022-01-01   -0.759024\n",
       "2022-01-02   -0.859372\n",
       "2022-01-03   -0.767672\n",
       "2022-01-04   -0.722217\n",
       "2022-01-05   -0.788648\n",
       "2022-01-06   -1.371813\n",
       "Freq: D, Name: a, dtype: float64"
      ]
     },
     "execution_count": 13,
     "metadata": {},
     "output_type": "execute_result"
    }
   ],
   "source": [
    "df['a']"
   ]
  },
  {
   "cell_type": "code",
   "execution_count": 14,
   "id": "ad510461",
   "metadata": {},
   "outputs": [
    {
     "data": {
      "text/plain": [
       "<bound method NDFrame.head of                    a         b         c         d\n",
       "2022-01-01 -0.759024  1.252782  0.025987  0.470358\n",
       "2022-01-02 -0.859372 -0.918148 -0.492104  1.011522\n",
       "2022-01-03 -0.767672 -1.074146 -0.635406 -0.273074\n",
       "2022-01-04 -0.722217 -0.696017 -0.486239  2.204282\n",
       "2022-01-05 -0.788648 -0.035195  2.322818 -1.318911\n",
       "2022-01-06 -1.371813  0.368841 -0.203755 -0.634290>"
      ]
     },
     "execution_count": 14,
     "metadata": {},
     "output_type": "execute_result"
    }
   ],
   "source": [
    "df.head"
   ]
  },
  {
   "cell_type": "code",
   "execution_count": 15,
   "id": "36b251e1",
   "metadata": {},
   "outputs": [
    {
     "data": {
      "text/html": [
       "<div>\n",
       "<style scoped>\n",
       "    .dataframe tbody tr th:only-of-type {\n",
       "        vertical-align: middle;\n",
       "    }\n",
       "\n",
       "    .dataframe tbody tr th {\n",
       "        vertical-align: top;\n",
       "    }\n",
       "\n",
       "    .dataframe thead th {\n",
       "        text-align: right;\n",
       "    }\n",
       "</style>\n",
       "<table border=\"1\" class=\"dataframe\">\n",
       "  <thead>\n",
       "    <tr style=\"text-align: right;\">\n",
       "      <th></th>\n",
       "      <th>a</th>\n",
       "      <th>b</th>\n",
       "      <th>c</th>\n",
       "      <th>d</th>\n",
       "    </tr>\n",
       "  </thead>\n",
       "  <tbody>\n",
       "    <tr>\n",
       "      <th>2022-01-01</th>\n",
       "      <td>-0.759024</td>\n",
       "      <td>1.252782</td>\n",
       "      <td>0.025987</td>\n",
       "      <td>0.470358</td>\n",
       "    </tr>\n",
       "    <tr>\n",
       "      <th>2022-01-02</th>\n",
       "      <td>-0.859372</td>\n",
       "      <td>-0.918148</td>\n",
       "      <td>-0.492104</td>\n",
       "      <td>1.011522</td>\n",
       "    </tr>\n",
       "  </tbody>\n",
       "</table>\n",
       "</div>"
      ],
      "text/plain": [
       "                   a         b         c         d\n",
       "2022-01-01 -0.759024  1.252782  0.025987  0.470358\n",
       "2022-01-02 -0.859372 -0.918148 -0.492104  1.011522"
      ]
     },
     "execution_count": 15,
     "metadata": {},
     "output_type": "execute_result"
    }
   ],
   "source": [
    "df.head(2)"
   ]
  },
  {
   "cell_type": "code",
   "execution_count": 16,
   "id": "681da605",
   "metadata": {},
   "outputs": [
    {
     "data": {
      "text/html": [
       "<div>\n",
       "<style scoped>\n",
       "    .dataframe tbody tr th:only-of-type {\n",
       "        vertical-align: middle;\n",
       "    }\n",
       "\n",
       "    .dataframe tbody tr th {\n",
       "        vertical-align: top;\n",
       "    }\n",
       "\n",
       "    .dataframe thead th {\n",
       "        text-align: right;\n",
       "    }\n",
       "</style>\n",
       "<table border=\"1\" class=\"dataframe\">\n",
       "  <thead>\n",
       "    <tr style=\"text-align: right;\">\n",
       "      <th></th>\n",
       "      <th>a</th>\n",
       "      <th>b</th>\n",
       "      <th>c</th>\n",
       "      <th>d</th>\n",
       "    </tr>\n",
       "  </thead>\n",
       "  <tbody>\n",
       "    <tr>\n",
       "      <th>2022-01-05</th>\n",
       "      <td>-0.788648</td>\n",
       "      <td>-0.035195</td>\n",
       "      <td>2.322818</td>\n",
       "      <td>-1.318911</td>\n",
       "    </tr>\n",
       "    <tr>\n",
       "      <th>2022-01-06</th>\n",
       "      <td>-1.371813</td>\n",
       "      <td>0.368841</td>\n",
       "      <td>-0.203755</td>\n",
       "      <td>-0.634290</td>\n",
       "    </tr>\n",
       "  </tbody>\n",
       "</table>\n",
       "</div>"
      ],
      "text/plain": [
       "                   a         b         c         d\n",
       "2022-01-05 -0.788648 -0.035195  2.322818 -1.318911\n",
       "2022-01-06 -1.371813  0.368841 -0.203755 -0.634290"
      ]
     },
     "execution_count": 16,
     "metadata": {},
     "output_type": "execute_result"
    }
   ],
   "source": [
    "df.tail(2)"
   ]
  },
  {
   "cell_type": "code",
   "execution_count": 17,
   "id": "eccc91b2",
   "metadata": {},
   "outputs": [
    {
     "data": {
      "text/html": [
       "<div>\n",
       "<style scoped>\n",
       "    .dataframe tbody tr th:only-of-type {\n",
       "        vertical-align: middle;\n",
       "    }\n",
       "\n",
       "    .dataframe tbody tr th {\n",
       "        vertical-align: top;\n",
       "    }\n",
       "\n",
       "    .dataframe thead th {\n",
       "        text-align: right;\n",
       "    }\n",
       "</style>\n",
       "<table border=\"1\" class=\"dataframe\">\n",
       "  <thead>\n",
       "    <tr style=\"text-align: right;\">\n",
       "      <th></th>\n",
       "      <th>a</th>\n",
       "      <th>b</th>\n",
       "      <th>c</th>\n",
       "      <th>d</th>\n",
       "    </tr>\n",
       "  </thead>\n",
       "  <tbody>\n",
       "    <tr>\n",
       "      <th>count</th>\n",
       "      <td>6.000000</td>\n",
       "      <td>6.000000</td>\n",
       "      <td>6.000000</td>\n",
       "      <td>6.000000</td>\n",
       "    </tr>\n",
       "    <tr>\n",
       "      <th>mean</th>\n",
       "      <td>-0.878124</td>\n",
       "      <td>-0.183647</td>\n",
       "      <td>0.088550</td>\n",
       "      <td>0.243314</td>\n",
       "    </tr>\n",
       "    <tr>\n",
       "      <th>std</th>\n",
       "      <td>0.246081</td>\n",
       "      <td>0.892817</td>\n",
       "      <td>1.120086</td>\n",
       "      <td>1.262100</td>\n",
       "    </tr>\n",
       "    <tr>\n",
       "      <th>min</th>\n",
       "      <td>-1.371813</td>\n",
       "      <td>-1.074146</td>\n",
       "      <td>-0.635406</td>\n",
       "      <td>-1.318911</td>\n",
       "    </tr>\n",
       "    <tr>\n",
       "      <th>25%</th>\n",
       "      <td>-0.841691</td>\n",
       "      <td>-0.862615</td>\n",
       "      <td>-0.490638</td>\n",
       "      <td>-0.543986</td>\n",
       "    </tr>\n",
       "    <tr>\n",
       "      <th>50%</th>\n",
       "      <td>-0.778160</td>\n",
       "      <td>-0.365606</td>\n",
       "      <td>-0.344997</td>\n",
       "      <td>0.098642</td>\n",
       "    </tr>\n",
       "    <tr>\n",
       "      <th>75%</th>\n",
       "      <td>-0.761186</td>\n",
       "      <td>0.267832</td>\n",
       "      <td>-0.031449</td>\n",
       "      <td>0.876231</td>\n",
       "    </tr>\n",
       "    <tr>\n",
       "      <th>max</th>\n",
       "      <td>-0.722217</td>\n",
       "      <td>1.252782</td>\n",
       "      <td>2.322818</td>\n",
       "      <td>2.204282</td>\n",
       "    </tr>\n",
       "  </tbody>\n",
       "</table>\n",
       "</div>"
      ],
      "text/plain": [
       "              a         b         c         d\n",
       "count  6.000000  6.000000  6.000000  6.000000\n",
       "mean  -0.878124 -0.183647  0.088550  0.243314\n",
       "std    0.246081  0.892817  1.120086  1.262100\n",
       "min   -1.371813 -1.074146 -0.635406 -1.318911\n",
       "25%   -0.841691 -0.862615 -0.490638 -0.543986\n",
       "50%   -0.778160 -0.365606 -0.344997  0.098642\n",
       "75%   -0.761186  0.267832 -0.031449  0.876231\n",
       "max   -0.722217  1.252782  2.322818  2.204282"
      ]
     },
     "execution_count": 17,
     "metadata": {},
     "output_type": "execute_result"
    }
   ],
   "source": [
    "df.describe()"
   ]
  },
  {
   "cell_type": "code",
   "execution_count": 18,
   "id": "d2aac6ca",
   "metadata": {},
   "outputs": [
    {
     "data": {
      "text/plain": [
       "-0.8781244076658344"
      ]
     },
     "execution_count": 18,
     "metadata": {},
     "output_type": "execute_result"
    }
   ],
   "source": [
    "df['a'].mean()"
   ]
  },
  {
   "cell_type": "code",
   "execution_count": 19,
   "id": "ce05cfbb",
   "metadata": {},
   "outputs": [
    {
     "data": {
      "text/html": [
       "<div>\n",
       "<style scoped>\n",
       "    .dataframe tbody tr th:only-of-type {\n",
       "        vertical-align: middle;\n",
       "    }\n",
       "\n",
       "    .dataframe tbody tr th {\n",
       "        vertical-align: top;\n",
       "    }\n",
       "\n",
       "    .dataframe thead th {\n",
       "        text-align: right;\n",
       "    }\n",
       "</style>\n",
       "<table border=\"1\" class=\"dataframe\">\n",
       "  <thead>\n",
       "    <tr style=\"text-align: right;\">\n",
       "      <th></th>\n",
       "      <th>a</th>\n",
       "      <th>b</th>\n",
       "      <th>c</th>\n",
       "      <th>d</th>\n",
       "    </tr>\n",
       "  </thead>\n",
       "  <tbody>\n",
       "    <tr>\n",
       "      <th>2022-01-02</th>\n",
       "      <td>-0.859372</td>\n",
       "      <td>-0.918148</td>\n",
       "      <td>-0.492104</td>\n",
       "      <td>1.011522</td>\n",
       "    </tr>\n",
       "    <tr>\n",
       "      <th>2022-01-03</th>\n",
       "      <td>-0.767672</td>\n",
       "      <td>-1.074146</td>\n",
       "      <td>-0.635406</td>\n",
       "      <td>-0.273074</td>\n",
       "    </tr>\n",
       "  </tbody>\n",
       "</table>\n",
       "</div>"
      ],
      "text/plain": [
       "                   a         b         c         d\n",
       "2022-01-02 -0.859372 -0.918148 -0.492104  1.011522\n",
       "2022-01-03 -0.767672 -1.074146 -0.635406 -0.273074"
      ]
     },
     "execution_count": 19,
     "metadata": {},
     "output_type": "execute_result"
    }
   ],
   "source": [
    "df[1:3]"
   ]
  },
  {
   "cell_type": "code",
   "execution_count": 21,
   "id": "228f3a65",
   "metadata": {},
   "outputs": [
    {
     "data": {
      "text/html": [
       "<div>\n",
       "<style scoped>\n",
       "    .dataframe tbody tr th:only-of-type {\n",
       "        vertical-align: middle;\n",
       "    }\n",
       "\n",
       "    .dataframe tbody tr th {\n",
       "        vertical-align: top;\n",
       "    }\n",
       "\n",
       "    .dataframe thead th {\n",
       "        text-align: right;\n",
       "    }\n",
       "</style>\n",
       "<table border=\"1\" class=\"dataframe\">\n",
       "  <thead>\n",
       "    <tr style=\"text-align: right;\">\n",
       "      <th></th>\n",
       "      <th>a</th>\n",
       "      <th>b</th>\n",
       "      <th>c</th>\n",
       "      <th>d</th>\n",
       "    </tr>\n",
       "  </thead>\n",
       "  <tbody>\n",
       "    <tr>\n",
       "      <th>2022-01-03</th>\n",
       "      <td>-0.767672</td>\n",
       "      <td>-1.074146</td>\n",
       "      <td>-0.635406</td>\n",
       "      <td>-0.273074</td>\n",
       "    </tr>\n",
       "    <tr>\n",
       "      <th>2022-01-02</th>\n",
       "      <td>-0.859372</td>\n",
       "      <td>-0.918148</td>\n",
       "      <td>-0.492104</td>\n",
       "      <td>1.011522</td>\n",
       "    </tr>\n",
       "    <tr>\n",
       "      <th>2022-01-04</th>\n",
       "      <td>-0.722217</td>\n",
       "      <td>-0.696017</td>\n",
       "      <td>-0.486239</td>\n",
       "      <td>2.204282</td>\n",
       "    </tr>\n",
       "    <tr>\n",
       "      <th>2022-01-05</th>\n",
       "      <td>-0.788648</td>\n",
       "      <td>-0.035195</td>\n",
       "      <td>2.322818</td>\n",
       "      <td>-1.318911</td>\n",
       "    </tr>\n",
       "    <tr>\n",
       "      <th>2022-01-06</th>\n",
       "      <td>-1.371813</td>\n",
       "      <td>0.368841</td>\n",
       "      <td>-0.203755</td>\n",
       "      <td>-0.634290</td>\n",
       "    </tr>\n",
       "    <tr>\n",
       "      <th>2022-01-01</th>\n",
       "      <td>-0.759024</td>\n",
       "      <td>1.252782</td>\n",
       "      <td>0.025987</td>\n",
       "      <td>0.470358</td>\n",
       "    </tr>\n",
       "  </tbody>\n",
       "</table>\n",
       "</div>"
      ],
      "text/plain": [
       "                   a         b         c         d\n",
       "2022-01-03 -0.767672 -1.074146 -0.635406 -0.273074\n",
       "2022-01-02 -0.859372 -0.918148 -0.492104  1.011522\n",
       "2022-01-04 -0.722217 -0.696017 -0.486239  2.204282\n",
       "2022-01-05 -0.788648 -0.035195  2.322818 -1.318911\n",
       "2022-01-06 -1.371813  0.368841 -0.203755 -0.634290\n",
       "2022-01-01 -0.759024  1.252782  0.025987  0.470358"
      ]
     },
     "execution_count": 21,
     "metadata": {},
     "output_type": "execute_result"
    }
   ],
   "source": [
    "df.sort_values(by='b')"
   ]
  },
  {
   "cell_type": "code",
   "execution_count": 24,
   "id": "1cd0d461",
   "metadata": {},
   "outputs": [
    {
     "data": {
      "text/html": [
       "<div>\n",
       "<style scoped>\n",
       "    .dataframe tbody tr th:only-of-type {\n",
       "        vertical-align: middle;\n",
       "    }\n",
       "\n",
       "    .dataframe tbody tr th {\n",
       "        vertical-align: top;\n",
       "    }\n",
       "\n",
       "    .dataframe thead th {\n",
       "        text-align: right;\n",
       "    }\n",
       "</style>\n",
       "<table border=\"1\" class=\"dataframe\">\n",
       "  <thead>\n",
       "    <tr style=\"text-align: right;\">\n",
       "      <th></th>\n",
       "      <th>a</th>\n",
       "      <th>b</th>\n",
       "      <th>c</th>\n",
       "      <th>d</th>\n",
       "    </tr>\n",
       "  </thead>\n",
       "  <tbody>\n",
       "    <tr>\n",
       "      <th>2022-01-01</th>\n",
       "      <td>-0.759024</td>\n",
       "      <td>1.252782</td>\n",
       "      <td>0.025987</td>\n",
       "      <td>0.470358</td>\n",
       "    </tr>\n",
       "    <tr>\n",
       "      <th>2022-01-02</th>\n",
       "      <td>-0.859372</td>\n",
       "      <td>-0.918148</td>\n",
       "      <td>-0.492104</td>\n",
       "      <td>1.011522</td>\n",
       "    </tr>\n",
       "    <tr>\n",
       "      <th>2022-01-03</th>\n",
       "      <td>-0.767672</td>\n",
       "      <td>-1.074146</td>\n",
       "      <td>-0.635406</td>\n",
       "      <td>-0.273074</td>\n",
       "    </tr>\n",
       "    <tr>\n",
       "      <th>2022-01-04</th>\n",
       "      <td>-0.722217</td>\n",
       "      <td>-0.696017</td>\n",
       "      <td>-0.486239</td>\n",
       "      <td>2.204282</td>\n",
       "    </tr>\n",
       "    <tr>\n",
       "      <th>2022-01-05</th>\n",
       "      <td>-0.788648</td>\n",
       "      <td>-0.035195</td>\n",
       "      <td>2.322818</td>\n",
       "      <td>-1.318911</td>\n",
       "    </tr>\n",
       "    <tr>\n",
       "      <th>2022-01-06</th>\n",
       "      <td>-1.371813</td>\n",
       "      <td>0.368841</td>\n",
       "      <td>-0.203755</td>\n",
       "      <td>-0.634290</td>\n",
       "    </tr>\n",
       "  </tbody>\n",
       "</table>\n",
       "</div>"
      ],
      "text/plain": [
       "                   a         b         c         d\n",
       "2022-01-01 -0.759024  1.252782  0.025987  0.470358\n",
       "2022-01-02 -0.859372 -0.918148 -0.492104  1.011522\n",
       "2022-01-03 -0.767672 -1.074146 -0.635406 -0.273074\n",
       "2022-01-04 -0.722217 -0.696017 -0.486239  2.204282\n",
       "2022-01-05 -0.788648 -0.035195  2.322818 -1.318911\n",
       "2022-01-06 -1.371813  0.368841 -0.203755 -0.634290"
      ]
     },
     "execution_count": 24,
     "metadata": {},
     "output_type": "execute_result"
    }
   ],
   "source": [
    "df[df['a']<1]"
   ]
  },
  {
   "cell_type": "code",
   "execution_count": null,
   "id": "33f3809b",
   "metadata": {},
   "outputs": [],
   "source": [
    "# df.to_csv(path)\n",
    "# this will save the data frame to csv"
   ]
  }
 ],
 "metadata": {
  "kernelspec": {
   "display_name": "Python 3 (ipykernel)",
   "language": "python",
   "name": "python3"
  },
  "language_info": {
   "codemirror_mode": {
    "name": "ipython",
    "version": 3
   },
   "file_extension": ".py",
   "mimetype": "text/x-python",
   "name": "python",
   "nbconvert_exporter": "python",
   "pygments_lexer": "ipython3",
   "version": "3.9.12"
  }
 },
 "nbformat": 4,
 "nbformat_minor": 5
}
